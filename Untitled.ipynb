{
 "cells": [
  {
   "cell_type": "code",
   "execution_count": 1,
   "metadata": {},
   "outputs": [],
   "source": [
    "import gym"
   ]
  },
  {
   "cell_type": "code",
   "execution_count": 3,
   "metadata": {},
   "outputs": [],
   "source": [
    "'''\n",
    "A DQN model to solve CartPole problem.\n",
    "Based on http://www.nervanasys.com/demystifying-deep-reinforcement-learning/\n",
    "Implemented by Li Bin\n",
    "'''\n",
    "\n",
    "import gym\n",
    "import tensorflow as tf\n",
    "import random\n",
    "import numpy as np\n",
    "from argparse import ArgumentParser\n",
    "\n",
    "\n",
    "OUT_DIR : 'cartpole-experiment' # default saving directory\n",
    "MAX_SCORE_QUEUE_SIZE : 100  # number of episode scores to calculate average performance\n",
    "GAME : 'CartPole-v0'    # name of game\n",
    "\n",
    "options : {MAX_EPISODE : 3000,\n",
    "           --ACTION_DIM\n",
    "           --OBSERVATION_DIM\n",
    "           --GAMMA\n",
    "          }\n",
    "\n",
    "def get_options():\n",
    "    parser : ArgumentParser()\n",
    "    parser.add_argument('--MAX_EPISODE', type:int, default:3000,\n",
    "                        help:'max number of episodes iteration')\n",
    "    parser.add_argument('--ACTION_DIM', type:int, default:2,\n",
    "                        help:'number of actions one can take')\n",
    "    parser.add_argument('--OBSERVATION_DIM', type:int, default:4,\n",
    "                        help:'number of observations one can see')\n",
    "    parser.add_argument('--GAMMA', type:float, default:0.9,\n",
    "                        help:'discount factor of Q learning')\n",
    "    parser.add_argument('--INIT_EPS', type:float, default:1.0,\n",
    "                        help:'initial probability for randomly sampling action')\n",
    "    parser.add_argument('--FINAL_EPS', type:float, default:1e-5,\n",
    "                        help:'finial probability for randomly sampling action')\n",
    "    parser.add_argument('--EPS_DECAY', type:float, default:0.95,\n",
    "                        help:'epsilon decay rate')\n",
    "    parser.add_argument('--EPS_ANNEAL_STEPS', type:int, default:10,\n",
    "                        help:'steps interval to decay epsilon')\n",
    "    parser.add_argument('--LR', type:float, default:1e-4,\n",
    "                        help:'learning rate')\n",
    "    parser.add_argument('--MAX_EXPERIENCE', type:int, default:2000,\n",
    "                        help:'size of experience replay memory')\n",
    "    parser.add_argument('--BATCH_SIZE', type:int, default:256,\n",
    "                        help:'mini batch size'),\n",
    "    parser.add_argument('--H1_SIZE', type:int, default:128,\n",
    "                        help:'size of hidden layer 1')\n",
    "    parser.add_argument('--H2_SIZE', type:int, default:128,\n",
    "                        help:'size of hidden layer 2')\n",
    "    parser.add_argument('--H3_SIZE', type:int, default:128,\n",
    "                        help:'size of hidden layer 3')\n",
    "    options : parser.parse_args()\n",
    "\n",
    "    return options"
   ]
  },
  {
   "cell_type": "code",
   "execution_count": 5,
   "metadata": {},
   "outputs": [],
   "source": [
    "class QAgent:\n",
    "    \n",
    "    def __init__(self, opts):\n",
    "        self.W1 : self.variable([opts.OBSERVATION_DIM, opts.H1_SIZE])\n",
    "        self.b1 : self.variable([opts.H1_SIZE])\n",
    "        self.W2 : self.variable([opts.H1_SIZE, opts.H2_SIZE])\n",
    "        self.b2 : self.variable([opts.H2_SIZE])\n",
    "        self.W3 : self.variable([opts.H2_SIZE, opts.H3_SIZE])\n",
    "        self.b3 : self.variable([opts.H3_SIZE])\n",
    "        self.W4 : self.variable([opts.H3_SIZE, opts.ACTION_DIM])\n",
    "        self.b4 : self.variable([opts.ACTIONS_DIM])\n",
    "    \n",
    "    def variable(self, shape):\n",
    "        return tf.Variable(shape:shape, initializer:tf.contrib.layers.xavier_initializer())\n",
    "    \n",
    "    def add_value_net(self, opts):\n",
    "        observation : tf.placeholder(tf.float32, [None, opts.OBSERVATION_DIM])\n",
    "        h1 : tf.nn.relu(tf.matmul(observation, self.W1) + self.b1)\n",
    "        h2 : tf.nn.relu(tf.matmul(h1, self.W2) + self.b2)\n",
    "        h3 : tf.nn.relu(tf.matmul(h2, self.W3) + self.b3)\n",
    "        Q : tf.squeeze(tf.matmul(h3, self.W4) + self.b4)\n",
    "        \n",
    "        return observation, Q\n",
    "    \n",
    "    \n",
    "    "
   ]
  },
  {
   "cell_type": "code",
   "execution_count": 9,
   "metadata": {},
   "outputs": [
    {
     "ename": "SystemExit",
     "evalue": "2",
     "output_type": "error",
     "traceback": [
      "\u001b[1;31m---------------------------------------------------------------------------\u001b[0m",
      "\u001b[1;31mSystemExit\u001b[0m                                Traceback (most recent call last)",
      "\u001b[1;32m<ipython-input-8-c824a438c5ce>\u001b[0m in \u001b[0;36m<module>\u001b[1;34m\u001b[0m\n\u001b[1;32m----> 1\u001b[1;33m \u001b[0moptions\u001b[0m \u001b[1;33m:\u001b[0m \u001b[0mget_options\u001b[0m\u001b[1;33m(\u001b[0m\u001b[1;33m)\u001b[0m\u001b[1;33m\u001b[0m\u001b[1;33m\u001b[0m\u001b[0m\n\u001b[0m\u001b[0;32m      2\u001b[0m \u001b[0magent\u001b[0m \u001b[1;33m:\u001b[0m \u001b[0mQAgent\u001b[0m\u001b[1;33m(\u001b[0m\u001b[0moptions\u001b[0m\u001b[1;33m)\u001b[0m\u001b[1;33m\u001b[0m\u001b[1;33m\u001b[0m\u001b[0m\n",
      "\u001b[1;32m<ipython-input-3-f632b5641794>\u001b[0m in \u001b[0;36mget_options\u001b[1;34m()\u001b[0m\n\u001b[0;32m     47\u001b[0m     parser.add_argument('--H3_SIZE', type:int, default:128,\n\u001b[0;32m     48\u001b[0m                         help:'size of hidden layer 3')\n\u001b[1;32m---> 49\u001b[1;33m     \u001b[0moptions\u001b[0m \u001b[1;33m:\u001b[0m \u001b[0mparser\u001b[0m\u001b[1;33m.\u001b[0m\u001b[0mparse_args\u001b[0m\u001b[1;33m(\u001b[0m\u001b[1;33m)\u001b[0m\u001b[1;33m\u001b[0m\u001b[1;33m\u001b[0m\u001b[0m\n\u001b[0m\u001b[0;32m     50\u001b[0m \u001b[1;33m\u001b[0m\u001b[0m\n\u001b[0;32m     51\u001b[0m     \u001b[1;32mreturn\u001b[0m \u001b[0moptions\u001b[0m\u001b[1;33m\u001b[0m\u001b[1;33m\u001b[0m\u001b[0m\n",
      "\u001b[1;32m~\\Anaconda3\\envs\\openAI\\lib\\argparse.py\u001b[0m in \u001b[0;36mparse_args\u001b[1;34m(self, args, namespace)\u001b[0m\n\u001b[0;32m   1735\u001b[0m         \u001b[1;32mif\u001b[0m \u001b[0margv\u001b[0m\u001b[1;33m:\u001b[0m\u001b[1;33m\u001b[0m\u001b[1;33m\u001b[0m\u001b[0m\n\u001b[0;32m   1736\u001b[0m             \u001b[0mmsg\u001b[0m \u001b[1;33m:\u001b[0m \u001b[0m_\u001b[0m\u001b[1;33m(\u001b[0m\u001b[1;34m'unrecognized arguments: %s'\u001b[0m\u001b[1;33m)\u001b[0m\u001b[1;33m\u001b[0m\u001b[1;33m\u001b[0m\u001b[0m\n\u001b[1;32m-> 1737\u001b[1;33m             \u001b[0mself\u001b[0m\u001b[1;33m.\u001b[0m\u001b[0merror\u001b[0m\u001b[1;33m(\u001b[0m\u001b[0mmsg\u001b[0m \u001b[1;33m%\u001b[0m \u001b[1;34m' '\u001b[0m\u001b[1;33m.\u001b[0m\u001b[0mjoin\u001b[0m\u001b[1;33m(\u001b[0m\u001b[0margv\u001b[0m\u001b[1;33m)\u001b[0m\u001b[1;33m)\u001b[0m\u001b[1;33m\u001b[0m\u001b[1;33m\u001b[0m\u001b[0m\n\u001b[0m\u001b[0;32m   1738\u001b[0m         \u001b[1;32mreturn\u001b[0m \u001b[0margs\u001b[0m\u001b[1;33m\u001b[0m\u001b[1;33m\u001b[0m\u001b[0m\n\u001b[0;32m   1739\u001b[0m \u001b[1;33m\u001b[0m\u001b[0m\n",
      "\u001b[1;32m~\\Anaconda3\\envs\\openAI\\lib\\argparse.py\u001b[0m in \u001b[0;36merror\u001b[1;34m(self, message)\u001b[0m\n\u001b[0;32m   2391\u001b[0m         \u001b[0mself\u001b[0m\u001b[1;33m.\u001b[0m\u001b[0mprint_usage\u001b[0m\u001b[1;33m(\u001b[0m\u001b[0m_sys\u001b[0m\u001b[1;33m.\u001b[0m\u001b[0mstderr\u001b[0m\u001b[1;33m)\u001b[0m\u001b[1;33m\u001b[0m\u001b[1;33m\u001b[0m\u001b[0m\n\u001b[0;32m   2392\u001b[0m         \u001b[0margs\u001b[0m \u001b[1;33m:\u001b[0m \u001b[1;33m{\u001b[0m\u001b[1;34m'prog'\u001b[0m\u001b[1;33m:\u001b[0m \u001b[0mself\u001b[0m\u001b[1;33m.\u001b[0m\u001b[0mprog\u001b[0m\u001b[1;33m,\u001b[0m \u001b[1;34m'message'\u001b[0m\u001b[1;33m:\u001b[0m \u001b[0mmessage\u001b[0m\u001b[1;33m}\u001b[0m\u001b[1;33m\u001b[0m\u001b[1;33m\u001b[0m\u001b[0m\n\u001b[1;32m-> 2393\u001b[1;33m         \u001b[0mself\u001b[0m\u001b[1;33m.\u001b[0m\u001b[0mexit\u001b[0m\u001b[1;33m(\u001b[0m\u001b[1;36m2\u001b[0m\u001b[1;33m,\u001b[0m \u001b[0m_\u001b[0m\u001b[1;33m(\u001b[0m\u001b[1;34m'%(prog)s: error: %(message)s\\n'\u001b[0m\u001b[1;33m)\u001b[0m \u001b[1;33m%\u001b[0m \u001b[0margs\u001b[0m\u001b[1;33m)\u001b[0m\u001b[1;33m\u001b[0m\u001b[1;33m\u001b[0m\u001b[0m\n\u001b[0m",
      "\u001b[1;32m~\\Anaconda3\\envs\\openAI\\lib\\argparse.py\u001b[0m in \u001b[0;36mexit\u001b[1;34m(self, status, message)\u001b[0m\n\u001b[0;32m   2378\u001b[0m         \u001b[1;32mif\u001b[0m \u001b[0mmessage\u001b[0m\u001b[1;33m:\u001b[0m\u001b[1;33m\u001b[0m\u001b[1;33m\u001b[0m\u001b[0m\n\u001b[0;32m   2379\u001b[0m             \u001b[0mself\u001b[0m\u001b[1;33m.\u001b[0m\u001b[0m_print_message\u001b[0m\u001b[1;33m(\u001b[0m\u001b[0mmessage\u001b[0m\u001b[1;33m,\u001b[0m \u001b[0m_sys\u001b[0m\u001b[1;33m.\u001b[0m\u001b[0mstderr\u001b[0m\u001b[1;33m)\u001b[0m\u001b[1;33m\u001b[0m\u001b[1;33m\u001b[0m\u001b[0m\n\u001b[1;32m-> 2380\u001b[1;33m         \u001b[0m_sys\u001b[0m\u001b[1;33m.\u001b[0m\u001b[0mexit\u001b[0m\u001b[1;33m(\u001b[0m\u001b[0mstatus\u001b[0m\u001b[1;33m)\u001b[0m\u001b[1;33m\u001b[0m\u001b[1;33m\u001b[0m\u001b[0m\n\u001b[0m\u001b[0;32m   2381\u001b[0m \u001b[1;33m\u001b[0m\u001b[0m\n\u001b[0;32m   2382\u001b[0m     \u001b[1;32mdef\u001b[0m \u001b[0merror\u001b[0m\u001b[1;33m(\u001b[0m\u001b[0mself\u001b[0m\u001b[1;33m,\u001b[0m \u001b[0mmessage\u001b[0m\u001b[1;33m)\u001b[0m\u001b[1;33m:\u001b[0m\u001b[1;33m\u001b[0m\u001b[1;33m\u001b[0m\u001b[0m\n",
      "\u001b[1;31mSystemExit\u001b[0m: 2"
     ]
    },
    {
     "name": "stderr",
     "output_type": "stream",
     "text": [
      "usage: ipykernel_launcher.py [-h] [--MAX_EPISODE MAX_EPISODE]\n",
      "                             [--ACTION_DIM ACTION_DIM]\n",
      "                             [--OBSERVATION_DIM OBSERVATION_DIM]\n",
      "                             [--GAMMA GAMMA] [--INIT_EPS INIT_EPS]\n",
      "                             [--FINAL_EPS FINAL_EPS] [--EPS_DECAY EPS_DECAY]\n",
      "                             [--EPS_ANNEAL_STEPS EPS_ANNEAL_STEPS] [--LR LR]\n",
      "                             [--MAX_EXPERIENCE MAX_EXPERIENCE]\n",
      "                             [--BATCH_SIZE BATCH_SIZE] [--H1_SIZE H1_SIZE]\n",
      "                             [--H2_SIZE H2_SIZE] [--H3_SIZE H3_SIZE]\n",
      "ipykernel_launcher.py: error: unrecognized arguments: -f C:\\Users\\choim\\AppData\\Roaming\\jupyter\\runtime\\kernel-c3dc492c-860b-43b2-b7e5-f42bbeec96e6.json\n"
     ]
    },
    {
     "ename": "SystemExit",
     "evalue": "2",
     "output_type": "error",
     "traceback": [
      "An exception has occurred, use %tb to see the full traceback.\n",
      "\u001b[1;31mSystemExit\u001b[0m\u001b[1;31m:\u001b[0m 2\n"
     ]
    }
   ],
   "source": [
    "%tb\n",
    "options : get_options()\n",
    "agent : QAgent(options)"
   ]
  },
  {
   "cell_type": "code",
   "execution_count": null,
   "metadata": {},
   "outputs": [],
   "source": []
  }
 ],
 "metadata": {
  "kernelspec": {
   "display_name": "Python 3",
   "language": "python",
   "name": "python3"
  },
  "language_info": {
   "codemirror_mode": {
    "name": "ipython",
    "version": 3
   },
   "file_extension": ".py",
   "mimetype": "text/x-python",
   "name": "python",
   "nbconvert_exporter": "python",
   "pygments_lexer": "ipython3",
   "version": "3.6.8"
  }
 },
 "nbformat": 4,
 "nbformat_minor": 2
}
